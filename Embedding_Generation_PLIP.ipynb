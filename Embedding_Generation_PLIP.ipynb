{
 "cells": [
  {
   "cell_type": "markdown",
   "id": "cbd04a4a-75d7-493b-ab3f-1f47d1f45b02",
   "metadata": {
    "jp-MarkdownHeadingCollapsed": true
   },
   "source": [
    "## **Embedding Generation Using PLIP (Pathology Language and Image Pre-Training)**\n",
    "\n",
    "In this notebook, we will:\n",
    "- Load the pre-processed and augmented images.\n",
    "- Generate embeddings using the PLIP model.\n",
    "- Save the embeddings and related data for evaluation..\n",
    "\n",
    "---"
   ]
  },
  {
   "cell_type": "markdown",
   "id": "c22f0edb-41b1-4978-b97a-590b219e66fd",
   "metadata": {},
   "source": [
    "## **Table of Contents**\n",
    "---\n",
    "1. Import Libraries\n",
    "2. Set Up Device\n",
    "3. Load Augmented Image Mapping\n",
    "4. Load PLIP Model\n",
    "5. Generate Embeddings\n",
    "6. Select Representative Embeddings\n",
    "7. Save Embeddings\n",
    "8. Clear Memory\n",
    "9. Conclusion"
   ]
  },
  {
   "cell_type": "markdown",
   "id": "85690930-1f36-47d0-b729-388a62fb5635",
   "metadata": {},
   "source": [
    "---\n",
    "### **Step 1: Import Libraries**\n",
    "\n",
    "We begin by importing the necessary libraries."
   ]
  },
  {
   "cell_type": "code",
   "execution_count": 1,
   "id": "9c590653-1842-4820-add2-1caaf5871be5",
   "metadata": {},
   "outputs": [],
   "source": [
    "import os\n",
    "import numpy as np\n",
    "import pandas as pd\n",
    "from PIL import Image\n",
    "from tqdm import tqdm\n",
    "import torch\n",
    "import gc"
   ]
  },
  {
   "cell_type": "markdown",
   "id": "348c3564-43e3-4600-961b-c7bbbd8781cd",
   "metadata": {},
   "source": [
    "---\n",
    "### **Step 2: Set Up Device**"
   ]
  },
  {
   "cell_type": "code",
   "execution_count": 2,
   "id": "0acb4d26-628e-4b56-a13c-4f0f1e3dcd3d",
   "metadata": {},
   "outputs": [
    {
     "name": "stdout",
     "output_type": "stream",
     "text": [
      "Using device: cpu\n"
     ]
    }
   ],
   "source": [
    "# Set device\n",
    "device = torch.device('cuda' if torch.cuda.is_available() else 'cpu')\n",
    "print(f'Using device: {device}')"
   ]
  },
  {
   "cell_type": "markdown",
   "id": "12baa671-0e17-424e-a989-5e9b614fc238",
   "metadata": {},
   "source": [
    "---\n",
    "### **Step 3: Load Augmented Image Mapping**"
   ]
  },
  {
   "cell_type": "code",
   "execution_count": 3,
   "id": "273fead6-085e-4834-9af4-b00b13296db1",
   "metadata": {},
   "outputs": [],
   "source": [
    "# Load augmented image mapping\n",
    "augmented_df = pd.read_csv('augmented_image_mapping.csv')"
   ]
  },
  {
   "cell_type": "markdown",
   "id": "5a945a13-e388-4f42-8590-59f88c60aa83",
   "metadata": {},
   "source": [
    "---\n",
    "### **Step 4: Load PLIP Model**"
   ]
  },
  {
   "cell_type": "code",
   "execution_count": 4,
   "id": "df9a3d8d-f984-4583-9582-5cadbfa0579f",
   "metadata": {},
   "outputs": [
    {
     "name": "stderr",
     "output_type": "stream",
     "text": [
      "/Users/mohammedkhodorfirasal-tal/Documents/Professional/Work/Fellowship - Novartis/Data/venv/lib/python3.12/site-packages/transformers/tokenization_utils_base.py:1601: FutureWarning: `clean_up_tokenization_spaces` was not set. It will be set to `True` by default. This behavior will be depracted in transformers v4.45, and will be then set to `False` by default. For more details check this issue: https://github.com/huggingface/transformers/issues/31884\n",
      "  warnings.warn(\n"
     ]
    }
   ],
   "source": [
    "from transformers import CLIPModel, CLIPProcessor\n",
    "\n",
    "# Download the CLIP model and processor from Hugging Face\n",
    "model_name = \"openai/clip-vit-base-patch32\"\n",
    "model = CLIPModel.from_pretrained(model_name)\n",
    "processor = CLIPProcessor.from_pretrained(model_name)\n",
    "\n",
    "# Set model to evaluation mode (for inference)\n",
    "model.eval()\n",
    "\n",
    "# Make all tensors in the model contiguous before saving\n",
    "for param in model.parameters():\n",
    "    if not param.is_contiguous():\n",
    "        param.data = param.contiguous()\n",
    "\n",
    "# Save the model and processor to the PLIP directory\n",
    "model.save_pretrained('./PLIP')\n",
    "processor.save_pretrained('./PLIP')\n",
    "\n",
    "# Import the PLIP class from plip.py\n",
    "from PLIP.plip import PLIP\n",
    "\n",
    "# Path to the locally saved model files\n",
    "model_path = './PLIP'\n",
    "\n",
    "# Initialize the PLIP model using the local path\n",
    "plip_model = PLIP(model_name=model_path)"
   ]
  },
  {
   "cell_type": "markdown",
   "id": "afb050c2-20c2-4578-bccd-14fe06fd89d9",
   "metadata": {},
   "source": [
    "---\n",
    "### **Step 5: Generate Embedding**"
   ]
  },
  {
   "cell_type": "code",
   "execution_count": 7,
   "id": "c7802f1c-39ca-43fc-b534-ce04e5c4311c",
   "metadata": {},
   "outputs": [
    {
     "name": "stderr",
     "output_type": "stream",
     "text": [
      "Generating Embeddings: 100%|███████████████████████████████████████████████████████████████████████████████████████████████████████████████████████████| 30240/30240 [51:10<00:00,  9.85it/s]\n"
     ]
    }
   ],
   "source": [
    "# Directory containing augmented images\n",
    "augmented_dir = './augmented_dataset/'\n",
    "\n",
    "# Prepare lists to store embeddings and image information\n",
    "embeddings = []\n",
    "augmented_image_files = []\n",
    "original_image_files = []\n",
    "\n",
    "# Generate embeddings\n",
    "for idx, row in tqdm(augmented_df.iterrows(), total=len(augmented_df), desc='Generating Embeddings'):\n",
    "    augmented_image_file = row['augmented_image']\n",
    "    original_image_file = row['original_image']\n",
    "    image_path = os.path.join(augmented_dir, augmented_image_file)\n",
    "\n",
    "    # Load and preprocess image\n",
    "    img = Image.open(image_path).convert('RGB')\n",
    "    inputs = processor(images=img, return_tensors='pt').to(device)\n",
    "\n",
    "    # Generate embedding\n",
    "    with torch.no_grad():\n",
    "        outputs = model.get_image_features(**inputs)\n",
    "        embedding = outputs.cpu().numpy()[0]\n",
    "        # Normalize embedding\n",
    "        embedding = embedding / np.linalg.norm(embedding)\n",
    "        embeddings.append(embedding)\n",
    "        augmented_image_files.append(augmented_image_file)\n",
    "        original_image_files.append(original_image_file)\n",
    "\n",
    "    # Clear memory\n",
    "    del img, inputs, outputs\n",
    "    torch.cuda.empty_cache()\n",
    "    gc.collect()\n",
    "\n",
    "# Convert embeddings to NumPy array\n",
    "embeddings = np.vstack(embeddings)"
   ]
  },
  {
   "cell_type": "markdown",
   "id": "2afc0379-e599-4ab4-8655-745d18816b52",
   "metadata": {},
   "source": [
    "---\n",
    "### **Step 6: Select Representative Embeddings**\n",
    "\n",
    "We will use the Highest Norm Criterion to select the most representative embedding for each original image."
   ]
  },
  {
   "cell_type": "code",
   "execution_count": 8,
   "id": "c72196d8-69dc-4aea-a128-7b655e1c1021",
   "metadata": {},
   "outputs": [
    {
     "name": "stdout",
     "output_type": "stream",
     "text": [
      "The history saving thread hit an unexpected error (OperationalError('attempt to write a readonly database')).History will not be written to the database.\n"
     ]
    }
   ],
   "source": [
    "# Create a DataFrame for grouping\n",
    "data = pd.DataFrame({\n",
    "    'original_image': original_image_files,\n",
    "    'augmented_image': augmented_image_files,\n",
    "    'embedding_index': range(len(embeddings))\n",
    "})\n",
    "\n",
    "selected_embeddings = []\n",
    "selected_image_files = []\n",
    "\n",
    "for original_image, group in data.groupby('original_image'):\n",
    "    indices = group['embedding_index'].tolist()\n",
    "    group_embeddings = embeddings[indices]\n",
    "    # Compute norms of embeddings\n",
    "    norms = np.linalg.norm(group_embeddings, axis=1)\n",
    "    # Select the embedding with the highest norm\n",
    "    best_idx_in_group = np.argmax(norms)\n",
    "    best_idx = indices[best_idx_in_group]\n",
    "    selected_embeddings.append(embeddings[best_idx])\n",
    "    selected_image_files.append(original_image)"
   ]
  },
  {
   "cell_type": "markdown",
   "id": "54242f7a-0402-480c-97de-84795d47da0c",
   "metadata": {},
   "source": [
    "---\n",
    "### **Step 7: Save Embeddings**"
   ]
  },
  {
   "cell_type": "code",
   "execution_count": 9,
   "id": "d49c6c8b-c0da-44f8-a55b-f512230acf81",
   "metadata": {},
   "outputs": [
    {
     "name": "stdout",
     "output_type": "stream",
     "text": [
      "Embeddings for PLIP saved.\n"
     ]
    }
   ],
   "source": [
    "# Convert selected embeddings to NumPy array\n",
    "selected_embeddings = np.vstack(selected_embeddings)\n",
    "\n",
    "# Save embeddings and image files\n",
    "np.save('embeddings_plip.npy', selected_embeddings)\n",
    "np.save('image_files_plip.npy', selected_image_files)\n",
    "\n",
    "print('Embeddings for PLIP saved.')"
   ]
  },
  {
   "cell_type": "markdown",
   "id": "caaa0620-8bdf-467a-a618-64e84e1c6083",
   "metadata": {},
   "source": [
    "---\n",
    "### **Step 8: Clear Memory**"
   ]
  },
  {
   "cell_type": "code",
   "execution_count": 10,
   "id": "b8d9fcfd-d52f-428a-b57f-0efc741b710a",
   "metadata": {},
   "outputs": [
    {
     "data": {
      "text/plain": [
       "0"
      ]
     },
     "execution_count": 10,
     "metadata": {},
     "output_type": "execute_result"
    }
   ],
   "source": [
    "# Clear variables and free memory\n",
    "del embeddings, augmented_image_files, original_image_files, data\n",
    "del selected_embeddings, selected_image_files, model\n",
    "torch.cuda.empty_cache()\n",
    "gc.collect()"
   ]
  },
  {
   "cell_type": "markdown",
   "id": "8d49cf12-42c4-4c50-bbc5-2d5717e9d69f",
   "metadata": {},
   "source": [
    "---\n",
    "### **Conclusion**\n",
    "\n",
    "We have generated embeddings for the augmented images using the PLIP model, selected representative embeddings for each original image, and saved the embeddings for later evaluation."
   ]
  }
 ],
 "metadata": {
  "kernelspec": {
   "display_name": "Python 3 (ipykernel)",
   "language": "python",
   "name": "python3"
  },
  "language_info": {
   "codemirror_mode": {
    "name": "ipython",
    "version": 3
   },
   "file_extension": ".py",
   "mimetype": "text/x-python",
   "name": "python",
   "nbconvert_exporter": "python",
   "pygments_lexer": "ipython3",
   "version": "3.12.7"
  }
 },
 "nbformat": 4,
 "nbformat_minor": 5
}
